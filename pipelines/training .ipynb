{
 "cells": [
  {
   "cell_type": "code",
   "execution_count": 1,
   "id": "cd6ee063",
   "metadata": {
    "execution": {
     "iopub.execute_input": "2024-07-31T08:25:31.749130Z",
     "iopub.status.busy": "2024-07-31T08:25:31.748204Z",
     "iopub.status.idle": "2024-07-31T08:25:32.894341Z",
     "shell.execute_reply": "2024-07-31T08:25:32.892799Z"
    },
    "id": "gGDbf3bcaWhI",
    "papermill": {
     "duration": 1.154873,
     "end_time": "2024-07-31T08:25:32.897827",
     "exception": false,
     "start_time": "2024-07-31T08:25:31.742954",
     "status": "completed"
    },
    "tags": []
   },
   "outputs": [],
   "source": [
    "!rm -rf /content/looped_transformer/"
   ]
  },
  {
   "cell_type": "code",
   "execution_count": 2,
   "id": "85755f15",
   "metadata": {
    "execution": {
     "iopub.execute_input": "2024-07-31T08:25:32.906585Z",
     "iopub.status.busy": "2024-07-31T08:25:32.906150Z",
     "iopub.status.idle": "2024-07-31T08:25:35.884227Z",
     "shell.execute_reply": "2024-07-31T08:25:35.882855Z"
    },
    "id": "pNcqOqR5TdBl",
    "outputId": "8148f26f-6ba2-4094-a469-0990e1399451",
    "papermill": {
     "duration": 2.986377,
     "end_time": "2024-07-31T08:25:35.887704",
     "exception": false,
     "start_time": "2024-07-31T08:25:32.901327",
     "status": "completed"
    },
    "tags": []
   },
   "outputs": [
    {
     "name": "stdout",
     "output_type": "stream",
     "text": [
      "Cloning into 'looped_transformer'...\r\n",
      "remote: Enumerating objects: 240, done.\u001b[K\r\n",
      "remote: Counting objects: 100% (104/104), done.\u001b[K\r\n",
      "remote: Compressing objects: 100% (47/47), done.\u001b[K\r\n",
      "remote: Total 240 (delta 85), reused 57 (delta 57), pack-reused 136\u001b[K\r\n",
      "Receiving objects: 100% (240/240), 852.88 KiB | 13.76 MiB/s, done.\r\n",
      "Resolving deltas: 100% (142/142), done.\r\n",
      "__notebook__.ipynb  looped_transformer\r\n"
     ]
    }
   ],
   "source": [
    "!git clone https://github.com/DMurawiecki/looped_transformer.git\n",
    "!ls"
   ]
  },
  {
   "cell_type": "code",
   "execution_count": 3,
   "id": "5e7d7c86",
   "metadata": {
    "execution": {
     "iopub.execute_input": "2024-07-31T08:25:35.901340Z",
     "iopub.status.busy": "2024-07-31T08:25:35.900894Z",
     "iopub.status.idle": "2024-07-31T08:25:52.155419Z",
     "shell.execute_reply": "2024-07-31T08:25:52.153801Z"
    },
    "id": "in_b-Eu5js3q",
    "outputId": "d024c705-6f34-44c4-c8da-c33b0647fa24",
    "papermill": {
     "duration": 16.264928,
     "end_time": "2024-07-31T08:25:52.158507",
     "exception": false,
     "start_time": "2024-07-31T08:25:35.893579",
     "status": "completed"
    },
    "tags": []
   },
   "outputs": [
    {
     "name": "stdout",
     "output_type": "stream",
     "text": [
      "Requirement already satisfied: funcy in /opt/conda/lib/python3.10/site-packages (2.0)\r\n"
     ]
    }
   ],
   "source": [
    "!pip install funcy\n",
    "!pip3 install -U zetascale"
   ]
  },
  {
   "cell_type": "code",
   "execution_count": 4,
   "id": "adbc299b",
   "metadata": {
    "execution": {
     "iopub.execute_input": "2024-07-31T08:25:52.168985Z",
     "iopub.status.busy": "2024-07-31T08:25:52.168563Z",
     "iopub.status.idle": "2024-07-31T08:25:56.482687Z",
     "shell.execute_reply": "2024-07-31T08:25:56.481710Z"
    },
    "id": "e18-Kmvfdnqv",
    "papermill": {
     "duration": 4.322741,
     "end_time": "2024-07-31T08:25:56.485552",
     "exception": false,
     "start_time": "2024-07-31T08:25:52.162811",
     "status": "completed"
    },
    "tags": []
   },
   "outputs": [],
   "source": [
    "import sys\n",
    "import torch\n",
    "import numpy\n",
    "import yaml\n",
    "import os\n",
    "sys.path.append('/kaggle/working/looped_transformer/')\n",
    "sys.path.append('/kaggle/working/looped_transformer/scripts/')\n",
    "from models import build_model\n",
    "from tasks import get_task_sampler\n",
    "from nano_gpt import GPT2Model, GPT2Config, LayerNorm\n",
    "import matplotlib.pyplot as plt\n",
    "from tqdm import tqdm\n",
    "from main_utils import gen_dataloader\n",
    "from models import TransformerModel, TransformerModelLooped\n",
    "from curriculum import *\n",
    "from train import calculate_gradient_norm\n",
    "from train_implementation import train_model, train_step\n",
    "from utilities import set_optim_scaler_curriculum_by_args\n",
    "from eval_and_save import save_model"
   ]
  },
  {
   "cell_type": "code",
   "execution_count": 5,
   "id": "b1296fc6",
   "metadata": {
    "execution": {
     "iopub.execute_input": "2024-07-31T08:25:56.496839Z",
     "iopub.status.busy": "2024-07-31T08:25:56.495632Z",
     "iopub.status.idle": "2024-07-31T08:25:56.560282Z",
     "shell.execute_reply": "2024-07-31T08:25:56.558983Z"
    },
    "id": "B5sovYJtBOSB",
    "papermill": {
     "duration": 0.072735,
     "end_time": "2024-07-31T08:25:56.562897",
     "exception": false,
     "start_time": "2024-07-31T08:25:56.490162",
     "status": "completed"
    },
    "tags": []
   },
   "outputs": [],
   "source": [
    "device = torch.device('cuda' if torch.cuda.is_available() else 'cpu')\n",
    "starting_step = 0\n",
    "ending_step = 150000\n",
    "ctx = True\n",
    "\n",
    "torch.set_float32_matmul_precision('highest')\n",
    "torch.backends.cuda.matmul.allow_tf32 = True  # allow tf32 on matmul\n",
    "torch.backends.cudnn.allow_tf32 = True  # allow tf32 on cudnn\n",
    "dtype = 'float16'  # 'bfloat16', 'float32'\n",
    "ptdtype = {'float32': torch.float32, 'bfloat16': torch.bfloat16, 'float16': torch.float16}[dtype]"
   ]
  },
  {
   "cell_type": "markdown",
   "id": "d1259364",
   "metadata": {
    "id": "ODVq_cDJAaCh",
    "papermill": {
     "duration": 0.003977,
     "end_time": "2024-07-31T08:25:56.571313",
     "exception": false,
     "start_time": "2024-07-31T08:25:56.567336",
     "status": "completed"
    },
    "tags": []
   },
   "source": [
    "# Train Looped Model without logging to Weights&Biases"
   ]
  },
  {
   "cell_type": "code",
   "execution_count": 6,
   "id": "855549e3",
   "metadata": {
    "execution": {
     "iopub.execute_input": "2024-07-31T08:25:56.582476Z",
     "iopub.status.busy": "2024-07-31T08:25:56.581148Z",
     "iopub.status.idle": "2024-07-31T11:33:25.309188Z",
     "shell.execute_reply": "2024-07-31T11:33:25.307665Z"
    },
    "id": "3yc6N7vpAY8m",
    "outputId": "b2bea596-46b4-4858-ddbe-c5dcc9002cf1",
    "papermill": {
     "duration": 11248.736476,
     "end_time": "2024-07-31T11:33:25.312088",
     "exception": false,
     "start_time": "2024-07-31T08:25:56.575612",
     "status": "completed"
    },
    "tags": []
   },
   "outputs": [
    {
     "name": "stdout",
     "output_type": "stream",
     "text": [
      "number of parameters: 0.79M\n"
     ]
    },
    {
     "name": "stderr",
     "output_type": "stream",
     "text": [
      "  0%|          | 0/150000 [00:00<?, ?it/s]"
     ]
    },
    {
     "name": "stdout",
     "output_type": "stream",
     "text": [
      "0\n"
     ]
    },
    {
     "name": "stderr",
     "output_type": "stream",
     "text": [
      "100%|██████████| 150000/150000 [3:07:25<00:00, 13.34it/s]\n"
     ]
    },
    {
     "name": "stdout",
     "output_type": "stream",
     "text": [
      "your model was saved\n"
     ]
    },
    {
     "data": {
      "text/plain": [
       "[<matplotlib.lines.Line2D at 0x7c494c1641f0>]"
      ]
     },
     "execution_count": 6,
     "metadata": {},
     "output_type": "execute_result"
    },
    {
     "data": {
      "image/png": "[encoded data removed]",
      "text/plain": [
       "<Figure size 640x480 with 1 Axes>"
      ]
     },
     "metadata": {},
     "output_type": "display_data"
    }
   ],
   "source": [
    "n_positions = 101\n",
    "n_embd = 256\n",
    "n_head = 8\n",
    "n_dims= 4\n",
    "T = 500\n",
    "n_layer = 1\n",
    "torch.manual_seed(42)\n",
    "args_path = '/kaggle/working/looped_transformer/configs/base_loop_4dim.yaml'\n",
    "\n",
    "model_loop = TransformerModelLooped( n_dims, n_positions, n_embd, n_layer, n_head).to(device)\n",
    "\n",
    "optimizer_loop, scaler_loop, curriculum_loop, args_loop = set_optim_scaler_curriculum_by_args(args_path=args_path, model= model_loop)\n",
    "losses= train_model(starting_step=starting_step ,\n",
    "                     ending_step= ending_step,\n",
    "                     args= args_loop,\n",
    "                     model= model_loop,\n",
    "                     ctx= ctx,\n",
    "                     add_inputs_embeds= True,\n",
    "                     optimizer = optimizer_loop,\n",
    "                     curriculum = curriculum_loop,\n",
    "                     scaler = scaler_loop,\n",
    "                     device = device)\n",
    "save_model(model_loop, path= '/kaggle/working/state_loop_4dim.pt')\n",
    "plt.plot(losses)"
   ]
  }
 ],
 "metadata": {
  "accelerator": "GPU",
  "colab": {
   "gpuType": "T4",
   "provenance": []
  },
  "kaggle": {
   "accelerator": "gpu",
   "dataSources": [],
   "dockerImageVersionId": 30746,
   "isGpuEnabled": true,
   "isInternetEnabled": true,
   "language": "python",
   "sourceType": "notebook"
  },
  "kernelspec": {
   "display_name": "Python 3",
   "name": "python3"
  },
  "language_info": {
   "codemirror_mode": {
    "name": "ipython",
    "version": 3
   },
   "file_extension": ".py",
   "mimetype": "text/x-python",
   "name": "python",
   "nbconvert_exporter": "python",
   "pygments_lexer": "ipython3",
   "version": "3.10.13"
  },
  "papermill": {
   "default_parameters": {},
   "duration": 11286.983119,
   "end_time": "2024-07-31T11:33:35.357032",
   "environment_variables": {},
   "exception": null,
   "input_path": "__notebook__.ipynb",
   "output_path": "__notebook__.ipynb",
   "parameters": {},
   "start_time": "2024-07-31T08:25:28.373913",
   "version": "2.5.0"
  }
 },
 "nbformat": 4,
 "nbformat_minor": 5
}
