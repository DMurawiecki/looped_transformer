{
 "cells": [
  {
   "cell_type": "code",
   "execution_count": 1,
   "id": "2983f55f",
   "metadata": {
    "execution": {
     "iopub.execute_input": "2024-08-04T18:03:41.373862Z",
     "iopub.status.busy": "2024-08-04T18:03:41.372930Z",
     "iopub.status.idle": "2024-08-04T18:03:42.431571Z",
     "shell.execute_reply": "2024-08-04T18:03:42.430043Z"
    },
    "id": "22ce6131",
    "papermill": {
     "duration": 1.069011,
     "end_time": "2024-08-04T18:03:42.434542",
     "exception": false,
     "start_time": "2024-08-04T18:03:41.365531",
     "status": "completed"
    },
    "tags": []
   },
   "outputs": [],
   "source": [
    "! rm -rf /kaggle/working/looped_transformer/"
   ]
  },
  {
   "cell_type": "code",
   "execution_count": 2,
   "id": "4549b806",
   "metadata": {
    "execution": {
     "iopub.execute_input": "2024-08-04T18:03:42.447450Z",
     "iopub.status.busy": "2024-08-04T18:03:42.447035Z",
     "iopub.status.idle": "2024-08-04T18:03:45.264941Z",
     "shell.execute_reply": "2024-08-04T18:03:45.263512Z"
    },
    "id": "b27d0631",
    "outputId": "3b2c079f-1c18-4d20-e19f-38efd264f578",
    "papermill": {
     "duration": 2.82772,
     "end_time": "2024-08-04T18:03:45.267772",
     "exception": false,
     "start_time": "2024-08-04T18:03:42.440052",
     "status": "completed"
    },
    "tags": []
   },
   "outputs": [
    {
     "name": "stdout",
     "output_type": "stream",
     "text": [
      "Cloning into 'looped_transformer'...\r\n",
      "remote: Enumerating objects: 447, done.\u001b[K\r\n",
      "remote: Counting objects: 100% (311/311), done.\u001b[K\r\n",
      "remote: Compressing objects: 100% (125/125), done.\u001b[K\r\n",
      "remote: Total 447 (delta 239), reused 235 (delta 186), pack-reused 136\u001b[K\r\n",
      "Receiving objects: 100% (447/447), 907.44 KiB | 19.31 MiB/s, done.\r\n",
      "Resolving deltas: 100% (296/296), done.\r\n",
      "__notebook__.ipynb  looped_transformer\r\n"
     ]
    }
   ],
   "source": [
    "!git clone https://github.com/DMurawiecki/looped_transformer.git\n",
    "!ls"
   ]
  },
  {
   "cell_type": "code",
   "execution_count": 3,
   "id": "8439ad9a",
   "metadata": {
    "execution": {
     "iopub.execute_input": "2024-08-04T18:03:45.282178Z",
     "iopub.status.busy": "2024-08-04T18:03:45.281735Z",
     "iopub.status.idle": "2024-08-04T18:03:58.825429Z",
     "shell.execute_reply": "2024-08-04T18:03:58.824045Z"
    },
    "id": "1ee9ce57",
    "outputId": "945fb4fe-80ce-431f-ac2e-d914021b7307",
    "papermill": {
     "duration": 13.554052,
     "end_time": "2024-08-04T18:03:58.828324",
     "exception": false,
     "start_time": "2024-08-04T18:03:45.274272",
     "status": "completed"
    },
    "tags": []
   },
   "outputs": [
    {
     "name": "stdout",
     "output_type": "stream",
     "text": [
      "Requirement already satisfied: funcy in /opt/conda/lib/python3.10/site-packages (2.0)\r\n"
     ]
    }
   ],
   "source": [
    "!pip install funcy"
   ]
  },
  {
   "cell_type": "code",
   "execution_count": 4,
   "id": "805a1dc2",
   "metadata": {
    "execution": {
     "iopub.execute_input": "2024-08-04T18:03:58.842444Z",
     "iopub.status.busy": "2024-08-04T18:03:58.842009Z",
     "iopub.status.idle": "2024-08-04T18:04:22.700190Z",
     "shell.execute_reply": "2024-08-04T18:04:22.698751Z"
    },
    "id": "oIhIEhozyT9P",
    "outputId": "b7038053-d315-4690-9e70-5179f9b46473",
    "papermill": {
     "duration": 23.86888,
     "end_time": "2024-08-04T18:04:22.703259",
     "exception": false,
     "start_time": "2024-08-04T18:03:58.834379",
     "status": "completed"
    },
    "tags": []
   },
   "outputs": [
    {
     "name": "stdout",
     "output_type": "stream",
     "text": [
      "Collecting zetascale\r\n",
      "  Downloading zetascale-2.6.0-py3-none-any.whl.metadata (21 kB)\r\n",
      "Collecting accelerate==0.31.0 (from zetascale)\r\n",
      "  Downloading accelerate-0.31.0-py3-none-any.whl.metadata (19 kB)\r\n",
      "Collecting argparse<2.0.0,>=1.4.0 (from zetascale)\r\n",
      "  Downloading argparse-1.4.0-py2.py3-none-any.whl.metadata (2.8 kB)\r\n",
      "Collecting beartype==0.17.2 (from zetascale)\r\n",
      "  Downloading beartype-0.17.2-py3-none-any.whl.metadata (30 kB)\r\n",
      "Collecting bitsandbytes (from zetascale)\r\n",
      "  Downloading bitsandbytes-0.43.3-py3-none-manylinux_2_24_x86_64.whl.metadata (3.5 kB)\r\n",
      "Collecting colt5-attention (from zetascale)\r\n",
      "  Downloading CoLT5_attention-0.11.0-py3-none-any.whl.metadata (737 bytes)\r\n",
      "Requirement already satisfied: datasets in /opt/conda/lib/python3.10/site-packages (from zetascale) (2.20.0)\r\n",
      "Collecting einops==0.8.0 (from zetascale)\r\n",
      "  Downloading einops-0.8.0-py3-none-any.whl.metadata (12 kB)\r\n",
      "Collecting einops-exts==0.0.4 (from zetascale)\r\n",
      "  Downloading einops_exts-0.0.4-py3-none-any.whl.metadata (621 bytes)\r\n",
      "Collecting local-attention (from zetascale)\r\n",
      "  Downloading local_attention-1.9.14-py3-none-any.whl.metadata (683 bytes)\r\n",
      "Requirement already satisfied: loguru in /opt/conda/lib/python3.10/site-packages (from zetascale) (0.7.2)\r\n",
      "Requirement already satisfied: pytest==8.2.2 in /opt/conda/lib/python3.10/site-packages (from zetascale) (8.2.2)\r\n",
      "Collecting rich==13.7.1 (from zetascale)\r\n",
      "  Downloading rich-13.7.1-py3-none-any.whl.metadata (18 kB)\r\n",
      "Requirement already satisfied: torch<3.0,>=2.1.1 in /opt/conda/lib/python3.10/site-packages (from zetascale) (2.1.2+cpu)\r\n",
      "Collecting torchfix (from zetascale)\r\n",
      "  Downloading TorchFix-0.5.0-py3-none-any.whl.metadata (6.6 kB)\r\n",
      "Requirement already satisfied: torchvision in /opt/conda/lib/python3.10/site-packages (from zetascale) (0.16.2+cpu)\r\n",
      "Requirement already satisfied: tqdm==4.66.4 in /opt/conda/lib/python3.10/site-packages (from zetascale) (4.66.4)\r\n",
      "Requirement already satisfied: transformers==4.42.3 in /opt/conda/lib/python3.10/site-packages (from zetascale) (4.42.3)\r\n",
      "Collecting vector-quantize-pytorch==1.14.7 (from zetascale)\r\n",
      "  Downloading vector_quantize_pytorch-1.14.7-py3-none-any.whl.metadata (716 bytes)\r\n",
      "Requirement already satisfied: numpy>=1.17 in /opt/conda/lib/python3.10/site-packages (from accelerate==0.31.0->zetascale) (1.26.4)\r\n",
      "Requirement already satisfied: packaging>=20.0 in /opt/conda/lib/python3.10/site-packages (from accelerate==0.31.0->zetascale) (21.3)\r\n",
      "Requirement already satisfied: psutil in /opt/conda/lib/python3.10/site-packages (from accelerate==0.31.0->zetascale) (5.9.3)\r\n",
      "Requirement already satisfied: pyyaml in /opt/conda/lib/python3.10/site-packages (from accelerate==0.31.0->zetascale) (6.0.1)\r\n",
      "Requirement already satisfied: huggingface-hub in /opt/conda/lib/python3.10/site-packages (from accelerate==0.31.0->zetascale) (0.23.4)\r\n",
      "Requirement already satisfied: safetensors>=0.3.1 in /opt/conda/lib/python3.10/site-packages (from accelerate==0.31.0->zetascale) (0.4.3)\r\n",
      "Requirement already satisfied: iniconfig in /opt/conda/lib/python3.10/site-packages (from pytest==8.2.2->zetascale) (2.0.0)\r\n",
      "Requirement already satisfied: pluggy<2.0,>=1.5 in /opt/conda/lib/python3.10/site-packages (from pytest==8.2.2->zetascale) (1.5.0)\r\n",
      "Requirement already satisfied: exceptiongroup>=1.0.0rc8 in /opt/conda/lib/python3.10/site-packages (from pytest==8.2.2->zetascale) (1.2.0)\r\n",
      "Requirement already satisfied: tomli>=1 in /opt/conda/lib/python3.10/site-packages (from pytest==8.2.2->zetascale) (2.0.1)\r\n",
      "Requirement already satisfied: markdown-it-py>=2.2.0 in /opt/conda/lib/python3.10/site-packages (from rich==13.7.1->zetascale) (3.0.0)\r\n",
      "Requirement already satisfied: pygments<3.0.0,>=2.13.0 in /opt/conda/lib/python3.10/site-packages (from rich==13.7.1->zetascale) (2.17.2)\r\n",
      "Requirement already satisfied: filelock in /opt/conda/lib/python3.10/site-packages (from transformers==4.42.3->zetascale) (3.13.1)\r\n",
      "Requirement already satisfied: regex!=2019.12.17 in /opt/conda/lib/python3.10/site-packages (from transformers==4.42.3->zetascale) (2023.12.25)\r\n",
      "Requirement already satisfied: requests in /opt/conda/lib/python3.10/site-packages (from transformers==4.42.3->zetascale) (2.32.3)\r\n",
      "Requirement already satisfied: tokenizers<0.20,>=0.19 in /opt/conda/lib/python3.10/site-packages (from transformers==4.42.3->zetascale) (0.19.1)\r\n",
      "Collecting einx>=0.1.3 (from einx[torch]>=0.1.3->vector-quantize-pytorch==1.14.7->zetascale)\r\n",
      "  Downloading einx-0.3.0-py3-none-any.whl.metadata (6.9 kB)\r\n",
      "Requirement already satisfied: typing-extensions in /opt/conda/lib/python3.10/site-packages (from torch<3.0,>=2.1.1->zetascale) (4.9.0)\r\n",
      "Requirement already satisfied: sympy in /opt/conda/lib/python3.10/site-packages (from torch<3.0,>=2.1.1->zetascale) (1.13.0)\r\n",
      "Requirement already satisfied: networkx in /opt/conda/lib/python3.10/site-packages (from torch<3.0,>=2.1.1->zetascale) (3.2.1)\r\n",
      "Requirement already satisfied: jinja2 in /opt/conda/lib/python3.10/site-packages (from torch<3.0,>=2.1.1->zetascale) (3.1.2)\r\n",
      "Requirement already satisfied: fsspec in /opt/conda/lib/python3.10/site-packages (from torch<3.0,>=2.1.1->zetascale) (2024.5.0)\r\n",
      "Requirement already satisfied: pyarrow>=15.0.0 in /opt/conda/lib/python3.10/site-packages (from datasets->zetascale) (16.1.0)\r\n",
      "Requirement already satisfied: pyarrow-hotfix in /opt/conda/lib/python3.10/site-packages (from datasets->zetascale) (0.6)\r\n",
      "Requirement already satisfied: dill<0.3.9,>=0.3.0 in /opt/conda/lib/python3.10/site-packages (from datasets->zetascale) (0.3.8)\r\n",
      "Requirement already satisfied: pandas in /opt/conda/lib/python3.10/site-packages (from datasets->zetascale) (2.2.2)\r\n",
      "Requirement already satisfied: xxhash in /opt/conda/lib/python3.10/site-packages (from datasets->zetascale) (3.4.1)\r\n",
      "Requirement already satisfied: multiprocess in /opt/conda/lib/python3.10/site-packages (from datasets->zetascale) (0.70.16)\r\n",
      "Requirement already satisfied: aiohttp in /opt/conda/lib/python3.10/site-packages (from datasets->zetascale) (3.9.1)\r\n",
      "Requirement already satisfied: flake8>=3.8.2 in /opt/conda/lib/python3.10/site-packages (from torchfix->zetascale) (7.0.0)\r\n",
      "Collecting libcst<1.2.0,>=1.1.0 (from torchfix->zetascale)\r\n",
      "  Downloading libcst-1.1.0-cp310-cp310-manylinux_2_17_x86_64.manylinux2014_x86_64.whl.metadata (17 kB)\r\n",
      "Requirement already satisfied: pillow!=8.3.*,>=5.3.0 in /opt/conda/lib/python3.10/site-packages (from torchvision->zetascale) (9.5.0)\r\n",
      "Requirement already satisfied: frozendict in /opt/conda/lib/python3.10/site-packages (from einx>=0.1.3->einx[torch]>=0.1.3->vector-quantize-pytorch==1.14.7->zetascale) (2.4.4)\r\n",
      "Requirement already satisfied: mccabe<0.8.0,>=0.7.0 in /opt/conda/lib/python3.10/site-packages (from flake8>=3.8.2->torchfix->zetascale) (0.7.0)\r\n",
      "Requirement already satisfied: pycodestyle<2.12.0,>=2.11.0 in /opt/conda/lib/python3.10/site-packages (from flake8>=3.8.2->torchfix->zetascale) (2.11.1)\r\n",
      "Requirement already satisfied: pyflakes<3.3.0,>=3.2.0 in /opt/conda/lib/python3.10/site-packages (from flake8>=3.8.2->torchfix->zetascale) (3.2.0)\r\n",
      "Requirement already satisfied: attrs>=17.3.0 in /opt/conda/lib/python3.10/site-packages (from aiohttp->datasets->zetascale) (23.2.0)\r\n",
      "Requirement already satisfied: multidict<7.0,>=4.5 in /opt/conda/lib/python3.10/site-packages (from aiohttp->datasets->zetascale) (6.0.4)\r\n",
      "Requirement already satisfied: yarl<2.0,>=1.0 in /opt/conda/lib/python3.10/site-packages (from aiohttp->datasets->zetascale) (1.9.3)\r\n",
      "Requirement already satisfied: frozenlist>=1.1.1 in /opt/conda/lib/python3.10/site-packages (from aiohttp->datasets->zetascale) (1.4.1)\r\n",
      "Requirement already satisfied: aiosignal>=1.1.2 in /opt/conda/lib/python3.10/site-packages (from aiohttp->datasets->zetascale) (1.3.1)\r\n",
      "Requirement already satisfied: async-timeout<5.0,>=4.0 in /opt/conda/lib/python3.10/site-packages (from aiohttp->datasets->zetascale) (4.0.3)\r\n",
      "Requirement already satisfied: typing-inspect>=0.4.0 in /opt/conda/lib/python3.10/site-packages (from libcst<1.2.0,>=1.1.0->torchfix->zetascale) (0.9.0)\r\n",
      "Requirement already satisfied: mdurl~=0.1 in /opt/conda/lib/python3.10/site-packages (from markdown-it-py>=2.2.0->rich==13.7.1->zetascale) (0.1.2)\r\n",
      "Requirement already satisfied: pyparsing!=3.0.5,>=2.0.2 in /opt/conda/lib/python3.10/site-packages (from packaging>=20.0->accelerate==0.31.0->zetascale) (3.1.1)\r\n",
      "Requirement already satisfied: charset-normalizer<4,>=2 in /opt/conda/lib/python3.10/site-packages (from requests->transformers==4.42.3->zetascale) (3.3.2)\r\n",
      "Requirement already satisfied: idna<4,>=2.5 in /opt/conda/lib/python3.10/site-packages (from requests->transformers==4.42.3->zetascale) (3.6)\r\n",
      "Requirement already satisfied: urllib3<3,>=1.21.1 in /opt/conda/lib/python3.10/site-packages (from requests->transformers==4.42.3->zetascale) (1.26.18)\r\n",
      "Requirement already satisfied: certifi>=2017.4.17 in /opt/conda/lib/python3.10/site-packages (from requests->transformers==4.42.3->zetascale) (2024.7.4)\r\n",
      "Requirement already satisfied: MarkupSafe>=2.0 in /opt/conda/lib/python3.10/site-packages (from jinja2->torch<3.0,>=2.1.1->zetascale) (2.1.3)\r\n",
      "Requirement already satisfied: python-dateutil>=2.8.2 in /opt/conda/lib/python3.10/site-packages (from pandas->datasets->zetascale) (2.9.0.post0)\r\n",
      "Requirement already satisfied: pytz>=2020.1 in /opt/conda/lib/python3.10/site-packages (from pandas->datasets->zetascale) (2023.3.post1)\r\n",
      "Requirement already satisfied: tzdata>=2022.7 in /opt/conda/lib/python3.10/site-packages (from pandas->datasets->zetascale) (2023.4)\r\n",
      "Requirement already satisfied: mpmath<1.4,>=1.1.0 in /opt/conda/lib/python3.10/site-packages (from sympy->torch<3.0,>=2.1.1->zetascale) (1.3.0)\r\n",
      "Requirement already satisfied: six>=1.5 in /opt/conda/lib/python3.10/site-packages (from python-dateutil>=2.8.2->pandas->datasets->zetascale) (1.16.0)\r\n",
      "Requirement already satisfied: mypy-extensions>=0.3.0 in /opt/conda/lib/python3.10/site-packages (from typing-inspect>=0.4.0->libcst<1.2.0,>=1.1.0->torchfix->zetascale) (1.0.0)\r\n",
      "Downloading zetascale-2.6.0-py3-none-any.whl (532 kB)\r\n",
      "\u001b[2K   \u001b[90m━━━━━━━━━━━━━━━━━━━━━━━━━━━━━━━━━━━━━━━━\u001b[0m \u001b[32m532.5/532.5 kB\u001b[0m \u001b[31m17.4 MB/s\u001b[0m eta \u001b[36m0:00:00\u001b[0m\r\n",
      "\u001b[?25hDownloading accelerate-0.31.0-py3-none-any.whl (309 kB)\r\n",
      "\u001b[2K   \u001b[90m━━━━━━━━━━━━━━━━━━━━━━━━━━━━━━━━━━━━━━━━\u001b[0m \u001b[32m309.4/309.4 kB\u001b[0m \u001b[31m15.2 MB/s\u001b[0m eta \u001b[36m0:00:00\u001b[0m\r\n",
      "\u001b[?25hDownloading beartype-0.17.2-py3-none-any.whl (872 kB)\r\n",
      "\u001b[2K   \u001b[90m━━━━━━━━━━━━━━━━━━━━━━━━━━━━━━━━━━━━━━━━\u001b[0m \u001b[32m872.4/872.4 kB\u001b[0m \u001b[31m33.1 MB/s\u001b[0m eta \u001b[36m0:00:00\u001b[0m\r\n",
      "\u001b[?25hDownloading einops-0.8.0-py3-none-any.whl (43 kB)\r\n",
      "\u001b[2K   \u001b[90m━━━━━━━━━━━━━━━━━━━━━━━━━━━━━━━━━━━━━━━━\u001b[0m \u001b[32m43.2/43.2 kB\u001b[0m \u001b[31m2.0 MB/s\u001b[0m eta \u001b[36m0:00:00\u001b[0m\r\n",
      "\u001b[?25hDownloading einops_exts-0.0.4-py3-none-any.whl (3.9 kB)\r\n",
      "Downloading rich-13.7.1-py3-none-any.whl (240 kB)\r\n",
      "\u001b[2K   \u001b[90m━━━━━━━━━━━━━━━━━━━━━━━━━━━━━━━━━━━━━━━━\u001b[0m \u001b[32m240.7/240.7 kB\u001b[0m \u001b[31m12.8 MB/s\u001b[0m eta \u001b[36m0:00:00\u001b[0m\r\n",
      "\u001b[?25hDownloading vector_quantize_pytorch-1.14.7-py3-none-any.whl (28 kB)\r\n",
      "Downloading argparse-1.4.0-py2.py3-none-any.whl (23 kB)\r\n",
      "Downloading bitsandbytes-0.43.3-py3-none-manylinux_2_24_x86_64.whl (137.5 MB)\r\n",
      "\u001b[2K   \u001b[90m━━━━━━━━━━━━━━━━━━━━━━━━━━━━━━━━━━━━━━━━\u001b[0m \u001b[32m137.5/137.5 MB\u001b[0m \u001b[31m11.1 MB/s\u001b[0m eta \u001b[36m0:00:00\u001b[0m\r\n",
      "\u001b[?25hDownloading CoLT5_attention-0.11.0-py3-none-any.whl (18 kB)\r\n",
      "Downloading local_attention-1.9.14-py3-none-any.whl (9.0 kB)\r\n",
      "Downloading TorchFix-0.5.0-py3-none-any.whl (26 kB)\r\n",
      "Downloading einx-0.3.0-py3-none-any.whl (102 kB)\r\n",
      "\u001b[2K   \u001b[90m━━━━━━━━━━━━━━━━━━━━━━━━━━━━━━━━━━━━━━━━\u001b[0m \u001b[32m103.0/103.0 kB\u001b[0m \u001b[31m5.3 MB/s\u001b[0m eta \u001b[36m0:00:00\u001b[0m\r\n",
      "\u001b[?25hDownloading libcst-1.1.0-cp310-cp310-manylinux_2_17_x86_64.manylinux2014_x86_64.whl (3.2 MB)\r\n",
      "\u001b[2K   \u001b[90m━━━━━━━━━━━━━━━━━━━━━━━━━━━━━━━━━━━━━━━━\u001b[0m \u001b[32m3.2/3.2 MB\u001b[0m \u001b[31m70.2 MB/s\u001b[0m eta \u001b[36m0:00:00\u001b[0m\r\n",
      "\u001b[?25hInstalling collected packages: argparse, einops, beartype, rich, libcst, einx, einops-exts, torchfix, local-attention, bitsandbytes, accelerate, vector-quantize-pytorch, colt5-attention, zetascale\r\n",
      "  Attempting uninstall: rich\r\n",
      "    Found existing installation: rich 13.7.0\r\n",
      "    Uninstalling rich-13.7.0:\r\n",
      "      Successfully uninstalled rich-13.7.0\r\n",
      "  Attempting uninstall: accelerate\r\n",
      "    Found existing installation: accelerate 0.32.1\r\n",
      "    Uninstalling accelerate-0.32.1:\r\n",
      "      Successfully uninstalled accelerate-0.32.1\r\n",
      "\u001b[31mERROR: pip's dependency resolver does not currently take into account all the packages that are installed. This behaviour is the source of the following dependency conflicts.\r\n",
      "tensorflow-decision-forests 1.8.1 requires wurlitzer, which is not installed.\r\n",
      "tensorflow 2.15.0 requires keras<2.16,>=2.15.0, but you have keras 3.4.1 which is incompatible.\u001b[0m\u001b[31m\r\n",
      "\u001b[0mSuccessfully installed accelerate-0.31.0 argparse-1.4.0 beartype-0.17.2 bitsandbytes-0.43.3 colt5-attention-0.11.0 einops-0.8.0 einops-exts-0.0.4 einx-0.3.0 libcst-1.1.0 local-attention-1.9.14 rich-13.7.1 torchfix-0.5.0 vector-quantize-pytorch-1.14.7 zetascale-2.6.0\r\n"
     ]
    }
   ],
   "source": [
    "!pip3 install -U zetascale"
   ]
  },
  {
   "cell_type": "code",
   "execution_count": 5,
   "id": "9d4db6b1",
   "metadata": {
    "execution": {
     "iopub.execute_input": "2024-08-04T18:04:22.729894Z",
     "iopub.status.busy": "2024-08-04T18:04:22.729050Z",
     "iopub.status.idle": "2024-08-04T18:04:47.450450Z",
     "shell.execute_reply": "2024-08-04T18:04:47.449302Z"
    },
    "id": "59ef7af2",
    "outputId": "ad537085-ce22-42c8-8444-48519f9da6ef",
    "papermill": {
     "duration": 24.737806,
     "end_time": "2024-08-04T18:04:47.453368",
     "exception": false,
     "start_time": "2024-08-04T18:04:22.715562",
     "status": "completed"
    },
    "tags": []
   },
   "outputs": [],
   "source": [
    "import os\n",
    "import json\n",
    "import numpy as np\n",
    "import matplotlib.pyplot as plt\n",
    "import torch\n",
    "import torch.nn as nn\n",
    "import copy\n",
    "import matplotlib.pyplot as plt\n",
    "import torch.nn.functional as F\n",
    "import sys\n",
    "from tqdm import tqdm\n",
    "sys.path.append('/kaggle/working/looped_transformer/scripts')\n",
    "from nano_gpt import GPT2Model, GPT2Config\n",
    "from utils import eval_unlooped_model, aggregate_metrics, eval_looped_model\n",
    "from models import TransformerModel, TransformerModelLooped"
   ]
  },
  {
   "cell_type": "code",
   "execution_count": 6,
   "id": "f891e9aa",
   "metadata": {
    "execution": {
     "iopub.execute_input": "2024-08-04T18:04:47.479904Z",
     "iopub.status.busy": "2024-08-04T18:04:47.479156Z",
     "iopub.status.idle": "2024-08-04T18:04:47.485187Z",
     "shell.execute_reply": "2024-08-04T18:04:47.484137Z"
    },
    "id": "45ebff97",
    "papermill": {
     "duration": 0.021616,
     "end_time": "2024-08-04T18:04:47.487544",
     "exception": false,
     "start_time": "2024-08-04T18:04:47.465928",
     "status": "completed"
    },
    "tags": []
   },
   "outputs": [],
   "source": [
    "fig_hparam = {\n",
    "    'figsize': (8, 5),\n",
    "    'labelsize': 28,\n",
    "    'ticksize': 20,\n",
    "    'linewidth': 5,\n",
    "    'fontsize': 15,\n",
    "    'titlesize': 20,\n",
    "    'markersize': 15\n",
    "}\n",
    "\n",
    "# font specification\n",
    "fontdict = {'family': 'serif',\n",
    "         'size': fig_hparam['fontsize'],\n",
    "         }"
   ]
  },
  {
   "cell_type": "code",
   "execution_count": 7,
   "id": "53a05b62",
   "metadata": {
    "execution": {
     "iopub.execute_input": "2024-08-04T18:04:47.514460Z",
     "iopub.status.busy": "2024-08-04T18:04:47.513624Z",
     "iopub.status.idle": "2024-08-04T18:04:47.520981Z",
     "shell.execute_reply": "2024-08-04T18:04:47.519664Z"
    },
    "id": "d240cecc",
    "papermill": {
     "duration": 0.023839,
     "end_time": "2024-08-04T18:04:47.523421",
     "exception": false,
     "start_time": "2024-08-04T18:04:47.499582",
     "status": "completed"
    },
    "tags": []
   },
   "outputs": [],
   "source": [
    "def get_model(model, step, model_path= None):\n",
    "    if step == -1:\n",
    "        state_dict = torch.load(model_path, map_location='cpu')['model_state_dict']\n",
    "    else:\n",
    "        state_dict = torch.load(model_path, map_location='cpu')['model']\n",
    "\n",
    "#     return state_dict\n",
    "    unwanted_prefix = '_orig_mod.'\n",
    "    for k,v in list(state_dict.items()):\n",
    "        if k.startswith(unwanted_prefix):\n",
    "            state_dict[k[len(unwanted_prefix):]] = state_dict.pop(k)\n",
    "    model.load_state_dict(state_dict, strict=True)\n",
    "\n",
    "    return model\n"
   ]
  },
  {
   "cell_type": "code",
   "execution_count": 8,
   "id": "7876a96d",
   "metadata": {
    "execution": {
     "iopub.execute_input": "2024-08-04T18:04:47.549809Z",
     "iopub.status.busy": "2024-08-04T18:04:47.549391Z",
     "iopub.status.idle": "2024-08-04T18:04:47.554495Z",
     "shell.execute_reply": "2024-08-04T18:04:47.553328Z"
    },
    "id": "94fd2fc8",
    "papermill": {
     "duration": 0.020916,
     "end_time": "2024-08-04T18:04:47.556878",
     "exception": false,
     "start_time": "2024-08-04T18:04:47.535962",
     "status": "completed"
    },
    "tags": []
   },
   "outputs": [],
   "source": [
    "device = torch.device('cpu')"
   ]
  },
  {
   "cell_type": "markdown",
   "id": "37e2f8ae",
   "metadata": {
    "id": "f2cabdf2",
    "papermill": {
     "duration": 0.011604,
     "end_time": "2024-08-04T18:04:47.580532",
     "exception": false,
     "start_time": "2024-08-04T18:04:47.568928",
     "status": "completed"
    },
    "tags": []
   },
   "source": [
    "## Get dataset"
   ]
  },
  {
   "cell_type": "code",
   "execution_count": 9,
   "id": "64e632dd",
   "metadata": {
    "execution": {
     "iopub.execute_input": "2024-08-04T18:04:47.607722Z",
     "iopub.status.busy": "2024-08-04T18:04:47.606944Z",
     "iopub.status.idle": "2024-08-04T18:04:47.648934Z",
     "shell.execute_reply": "2024-08-04T18:04:47.647850Z"
    },
    "id": "499be52d",
    "papermill": {
     "duration": 0.057999,
     "end_time": "2024-08-04T18:04:47.651598",
     "exception": false,
     "start_time": "2024-08-04T18:04:47.593599",
     "status": "completed"
    },
    "tags": []
   },
   "outputs": [],
   "source": [
    "class LinearRegression():\n",
    "    def __init__(self, batch_size, n_points, n_dims, n_dims_truncated, device, w_star=None):\n",
    "        super(LinearRegression, self).__init__()\n",
    "        self.device = device\n",
    "        self.xs = torch.randn(batch_size, n_points, n_dims).to(device)\n",
    "        self.xs[..., n_dims_truncated:] = 0\n",
    "        w_b = torch.randn(batch_size, n_dims, 1) if w_star is None else w_star.to(device)  # [B, d, 1]\n",
    "        w_b[:, n_dims_truncated:] = 0\n",
    "        self.w_b = w_b.to(device)\n",
    "        self.ys = (self.xs @ self.w_b).sum(-1)  # [B, n]\n",
    "\n",
    "sample_size = 1280\n",
    "batch_size = 128\n",
    "n_points = 41\n",
    "n_dims_truncated = 20\n",
    "n_dims = 4\n",
    "real_task = LinearRegression(sample_size, n_points, n_dims, n_dims_truncated, device)\n",
    "xs, ys, w_b = real_task.xs, real_task.ys, real_task.w_b"
   ]
  },
  {
   "cell_type": "markdown",
   "id": "aaf593ce",
   "metadata": {
    "id": "27e5c705",
    "papermill": {
     "duration": 0.012838,
     "end_time": "2024-08-04T18:04:47.678028",
     "exception": false,
     "start_time": "2024-08-04T18:04:47.665190",
     "status": "completed"
    },
    "tags": []
   },
   "source": [
    "## load model with AB-layer and Benchmarks"
   ]
  },
  {
   "cell_type": "code",
   "execution_count": 10,
   "id": "572189f6",
   "metadata": {
    "execution": {
     "iopub.execute_input": "2024-08-04T18:04:47.706826Z",
     "iopub.status.busy": "2024-08-04T18:04:47.706417Z",
     "iopub.status.idle": "2024-08-04T18:04:47.711372Z",
     "shell.execute_reply": "2024-08-04T18:04:47.710157Z"
    },
    "id": "fe8ad97e",
    "papermill": {
     "duration": 0.022301,
     "end_time": "2024-08-04T18:04:47.713694",
     "exception": false,
     "start_time": "2024-08-04T18:04:47.691393",
     "status": "completed"
    },
    "tags": []
   },
   "outputs": [],
   "source": [
    "result_errs = {}"
   ]
  },
  {
   "cell_type": "code",
   "execution_count": 11,
   "id": "ef180ec5",
   "metadata": {
    "execution": {
     "iopub.execute_input": "2024-08-04T18:04:47.740034Z",
     "iopub.status.busy": "2024-08-04T18:04:47.739614Z",
     "iopub.status.idle": "2024-08-04T19:10:03.546573Z",
     "shell.execute_reply": "2024-08-04T19:10:03.544621Z"
    },
    "id": "f4434514",
    "outputId": "03cfda79-b487-425f-9df2-f213ea7508ef",
    "papermill": {
     "duration": 3915.824522,
     "end_time": "2024-08-04T19:10:03.550316",
     "exception": false,
     "start_time": "2024-08-04T18:04:47.725794",
     "status": "completed"
    },
    "tags": []
   },
   "outputs": [
    {
     "name": "stderr",
     "output_type": "stream",
     "text": [
      "Processing models:   0%|          | 0/2 [00:00<?, ?it/s]"
     ]
    },
    {
     "name": "stdout",
     "output_type": "stream",
     "text": [
      "number of parameters: 1.58M\n",
      "0\n"
     ]
    },
    {
     "name": "stderr",
     "output_type": "stream",
     "text": [
      "Processing models:  50%|█████     | 1/2 [47:52<47:52, 2872.91s/it]"
     ]
    },
    {
     "name": "stdout",
     "output_type": "stream",
     "text": [
      "number of parameters: 0.79M\n",
      "0\n"
     ]
    },
    {
     "name": "stderr",
     "output_type": "stream",
     "text": [
      "Processing models: 100%|██████████| 2/2 [1:04:51<00:00, 1945.58s/it]\n"
     ]
    },
    {
     "name": "stdout",
     "output_type": "stream",
     "text": [
      "number of parameters: 9.48M\n"
     ]
    }
   ],
   "source": [
    "paths = ['/kaggle/input/ab_evaluation/pytorch/default/1/state_loop_AB_4_dims_150k.pt',\n",
    "         '/kaggle/input/ab_evaluation/pytorch/default/1/state_loop_requir_gr_4_dims_150k.pt',\n",
    "        '/kaggle/input/ab_evaluation/pytorch/default/1/state_requir_gr_4_dims_150k_new.pt']\n",
    "names = ['A-B Transformer', 'Looped Transformer', 'Universal Transformer']\n",
    "n_positions = 101\n",
    "n_embd = 256\n",
    "n_head = 8\n",
    "T = 500\n",
    "n_layers = [2, 1]\n",
    "\n",
    "for name, path, n_layer in tqdm(zip(names[:-1], paths[:-1], n_layers), total= len(names) - 1, desc='Processing models'):\n",
    "    model = TransformerModelLooped(n_dims, n_positions, n_embd, n_layer, n_head)\n",
    "    step = -1\n",
    "    model = get_model(model, step, path)\n",
    "    model = model.to(device)\n",
    "\n",
    "    err, loop_err = eval_looped_model(model, xs, ys, loop_max=T)\n",
    "\n",
    "    result_errs[name] = err\n",
    "    \n",
    "n_layer = 12\n",
    "model = TransformerModel(n_dims, n_positions, n_embd, n_layer, n_head)\n",
    "step = -1\n",
    "model = get_model(model, step, paths[-1])\n",
    "model = model.to(device)\n",
    "err, loop_err = eval_unlooped_model(model, xs, ys)\n",
    "result_errs[names[-1]] = err"
   ]
  },
  {
   "cell_type": "markdown",
   "id": "8ff23bc6",
   "metadata": {
    "id": "9fca5c68",
    "papermill": {
     "duration": 0.013031,
     "end_time": "2024-08-04T19:10:03.577131",
     "exception": false,
     "start_time": "2024-08-04T19:10:03.564100",
     "status": "completed"
    },
    "tags": []
   },
   "source": [
    "### Also get the \"weak\" baseline"
   ]
  },
  {
   "cell_type": "code",
   "execution_count": 12,
   "id": "5b95d9b0",
   "metadata": {
    "execution": {
     "iopub.execute_input": "2024-08-04T19:10:03.605957Z",
     "iopub.status.busy": "2024-08-04T19:10:03.605469Z",
     "iopub.status.idle": "2024-08-04T19:10:05.380189Z",
     "shell.execute_reply": "2024-08-04T19:10:05.378754Z"
    },
    "id": "aecf12e0",
    "papermill": {
     "duration": 1.792779,
     "end_time": "2024-08-04T19:10:05.383121",
     "exception": false,
     "start_time": "2024-08-04T19:10:03.590342",
     "status": "completed"
    },
    "tags": []
   },
   "outputs": [],
   "source": [
    "from utils import get_relevant_baselines\n",
    "\n",
    "baselines = get_relevant_baselines(\"linear_regression\")\n",
    "# baseline_errs = {}\n",
    "for baseline_model in baselines:\n",
    "    y_pred = baseline_model(xs, ys)\n",
    "    err = (y_pred.cpu() - ys.cpu()).square()\n",
    "    result_errs[baseline_model.name] = err"
   ]
  },
  {
   "cell_type": "code",
   "execution_count": 13,
   "id": "89d9859d",
   "metadata": {
    "execution": {
     "iopub.execute_input": "2024-08-04T19:10:05.412103Z",
     "iopub.status.busy": "2024-08-04T19:10:05.411683Z",
     "iopub.status.idle": "2024-08-04T19:10:05.858587Z",
     "shell.execute_reply": "2024-08-04T19:10:05.857495Z"
    },
    "id": "06df4eeb",
    "papermill": {
     "duration": 0.464602,
     "end_time": "2024-08-04T19:10:05.861388",
     "exception": false,
     "start_time": "2024-08-04T19:10:05.396786",
     "status": "completed"
    },
    "tags": []
   },
   "outputs": [],
   "source": [
    "result_errs_agg = aggregate_metrics(result_errs, n_dims_truncated)"
   ]
  },
  {
   "cell_type": "code",
   "execution_count": 14,
   "id": "bdf9ffa5",
   "metadata": {
    "execution": {
     "iopub.execute_input": "2024-08-04T19:10:05.889404Z",
     "iopub.status.busy": "2024-08-04T19:10:05.888899Z",
     "iopub.status.idle": "2024-08-04T19:10:05.894562Z",
     "shell.execute_reply": "2024-08-04T19:10:05.893321Z"
    },
    "id": "97f60b15",
    "papermill": {
     "duration": 0.022462,
     "end_time": "2024-08-04T19:10:05.897136",
     "exception": false,
     "start_time": "2024-08-04T19:10:05.874674",
     "status": "completed"
    },
    "scrolled": true,
    "tags": []
   },
   "outputs": [],
   "source": [
    "# result_errs_agg"
   ]
  },
  {
   "cell_type": "code",
   "execution_count": 15,
   "id": "a91a9a1e",
   "metadata": {
    "execution": {
     "iopub.execute_input": "2024-08-04T19:10:05.924953Z",
     "iopub.status.busy": "2024-08-04T19:10:05.924525Z",
     "iopub.status.idle": "2024-08-04T19:10:05.934416Z",
     "shell.execute_reply": "2024-08-04T19:10:05.933148Z"
    },
    "id": "5cf90628",
    "papermill": {
     "duration": 0.026626,
     "end_time": "2024-08-04T19:10:05.936741",
     "exception": false,
     "start_time": "2024-08-04T19:10:05.910115",
     "status": "completed"
    },
    "tags": []
   },
   "outputs": [
    {
     "data": {
      "text/plain": [
       "dict_keys(['A-B Transformer', 'Looped Transformer', 'Universal Transformer', 'Least Squares', '3-Nearest Neighbors', 'Averaging'])"
      ]
     },
     "execution_count": 15,
     "metadata": {},
     "output_type": "execute_result"
    }
   ],
   "source": [
    "result_errs_agg.keys()"
   ]
  },
  {
   "cell_type": "code",
   "execution_count": 16,
   "id": "2f308aae",
   "metadata": {
    "execution": {
     "iopub.execute_input": "2024-08-04T19:10:05.965835Z",
     "iopub.status.busy": "2024-08-04T19:10:05.964479Z",
     "iopub.status.idle": "2024-08-04T19:10:06.465164Z",
     "shell.execute_reply": "2024-08-04T19:10:06.463868Z"
    },
    "id": "630f3153",
    "papermill": {
     "duration": 0.518211,
     "end_time": "2024-08-04T19:10:06.468324",
     "exception": false,
     "start_time": "2024-08-04T19:10:05.950113",
     "status": "completed"
    },
    "tags": []
   },
   "outputs": [
    {
     "data": {
      "image/png": "[encoded data removed]",
      "text/plain": [
       "<Figure size 800x500 with 1 Axes>"
      ]
     },
     "metadata": {},
     "output_type": "display_data"
    }
   ],
   "source": [
    "import matplotlib.pyplot as plt\n",
    "import matplotlib\n",
    "\n",
    "fig, ax = plt.subplots(1, figsize=fig_hparam['figsize'])\n",
    "\n",
    "err_result_dict_agg = result_errs_agg\n",
    "\n",
    "cmap = matplotlib.cm.get_cmap(\"magma\")\n",
    "result_name_list = ['A-B Transformer',\n",
    "                    'Looped Transformer',\n",
    "                    'Universal Transformer',\n",
    "                    'Least Squares',\n",
    "                    '3-Nearest Neighbors',\n",
    "                    'Averaging']\n",
    "colors = cmap(np.linspace(0, 1, len(result_name_list)))\n",
    "for idx, model_name in enumerate(result_name_list):\n",
    "    err = err_result_dict_agg[model_name][\"mean\"]\n",
    "    ax.plot(err, color=colors[idx], lw=fig_hparam['linewidth'], label=model_name.capitalize())\n",
    "    low = err_result_dict_agg[model_name][\"bootstrap_low\"]\n",
    "    high = err_result_dict_agg[model_name][\"bootstrap_high\"]\n",
    "    ax.fill_between(range(len(low)), low, high, alpha=0.3, color=colors[idx])\n",
    "\n",
    "ax.tick_params(axis='both', labelsize=fig_hparam['ticksize'])\n",
    "ax.axhline(1, color='k', ls='--', lw=fig_hparam['linewidth'])\n",
    "ax.set_ylim(-0.1, 1.25)\n",
    "\n",
    "plt.rc('font', family='serif')\n",
    "ax.set_xlabel(\"in-context examples\", fontsize=fig_hparam['labelsize'])\n",
    "y_label = ax.set_ylabel(\"squared error\", fontsize=fig_hparam['labelsize'])\n",
    "legend = plt.legend(loc='center left', bbox_to_anchor=(1, 0.5), fontsize=fig_hparam['fontsize'])\n"
   ]
  },
  {
   "cell_type": "code",
   "execution_count": null,
   "id": "05a1fb27",
   "metadata": {
    "id": "FCMEHL_B-_mY",
    "papermill": {
     "duration": 0.014086,
     "end_time": "2024-08-04T19:10:06.497938",
     "exception": false,
     "start_time": "2024-08-04T19:10:06.483852",
     "status": "completed"
    },
    "tags": []
   },
   "outputs": [],
   "source": []
  }
 ],
 "metadata": {
  "accelerator": "GPU",
  "colab": {
   "gpuType": "T4",
   "provenance": []
  },
  "kaggle": {
   "accelerator": "none",
   "dataSources": [
    {
     "isSourceIdPinned": true,
     "modelId": 95532,
     "modelInstanceId": 70475,
     "sourceId": 83908,
     "sourceType": "modelInstanceVersion"
    },
    {
     "isSourceIdPinned": true,
     "modelId": 99165,
     "modelInstanceId": 74397,
     "sourceId": 88654,
     "sourceType": "modelInstanceVersion"
    }
   ],
   "dockerImageVersionId": 30746,
   "isGpuEnabled": false,
   "isInternetEnabled": true,
   "language": "python",
   "sourceType": "notebook"
  },
  "kernelspec": {
   "display_name": "Python 3",
   "language": "python",
   "name": "python3"
  },
  "language_info": {
   "codemirror_mode": {
    "name": "ipython",
    "version": 3
   },
   "file_extension": ".py",
   "mimetype": "text/x-python",
   "name": "python",
   "nbconvert_exporter": "python",
   "pygments_lexer": "ipython3",
   "version": "3.10.13"
  },
  "papermill": {
   "default_parameters": {},
   "duration": 3991.535957,
   "end_time": "2024-08-04T19:10:10.071612",
   "environment_variables": {},
   "exception": null,
   "input_path": "__notebook__.ipynb",
   "output_path": "__notebook__.ipynb",
   "parameters": {},
   "start_time": "2024-08-04T18:03:38.535655",
   "version": "2.5.0"
  }
 },
 "nbformat": 4,
 "nbformat_minor": 5
}
